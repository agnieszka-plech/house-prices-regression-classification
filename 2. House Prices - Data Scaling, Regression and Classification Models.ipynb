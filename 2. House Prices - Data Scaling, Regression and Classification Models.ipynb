{
 "cells": [
  {
   "cell_type": "markdown",
   "metadata": {
    "toc": true
   },
   "source": [
    "<h1>Table of Contents<span class=\"tocSkip\"></span></h1>\n",
    "<div class=\"toc\"><ul class=\"toc-item\"><li><span><a href=\"#Load-the-libraries-and-the-dataset\" data-toc-modified-id=\"Load-the-libraries-and-the-dataset-1\"><span class=\"toc-item-num\">1&nbsp;&nbsp;</span>Load the libraries and the dataset</a></span></li><li><span><a href=\"#Study-the-variable-target\" data-toc-modified-id=\"Study-the-variable-target-2\"><span class=\"toc-item-num\">2&nbsp;&nbsp;</span>Study the variable target</a></span><ul class=\"toc-item\"><li><span><a href=\"#Scaling-variables\" data-toc-modified-id=\"Scaling-variables-2.1\"><span class=\"toc-item-num\">2.1&nbsp;&nbsp;</span>Scaling variables</a></span></li></ul></li><li><span><a href=\"#Model-building:-Baseline-Model\" data-toc-modified-id=\"Model-building:-Baseline-Model-3\"><span class=\"toc-item-num\">3&nbsp;&nbsp;</span>Model building: Baseline Model</a></span><ul class=\"toc-item\"><li><span><a href=\"#Linear-Regression:-OverallQual-vs-SalePrice\" data-toc-modified-id=\"Linear-Regression:-OverallQual-vs-SalePrice-3.1\"><span class=\"toc-item-num\">3.1&nbsp;&nbsp;</span>Linear Regression: OverallQual vs SalePrice</a></span></li><li><span><a href=\"#Multilinear-Regression-1\" data-toc-modified-id=\"Multilinear-Regression-1-3.2\"><span class=\"toc-item-num\">3.2&nbsp;&nbsp;</span>Multilinear Regression 1</a></span></li><li><span><a href=\"#Multilinear-Regression-2\" data-toc-modified-id=\"Multilinear-Regression-2-3.3\"><span class=\"toc-item-num\">3.3&nbsp;&nbsp;</span>Multilinear Regression 2</a></span></li></ul></li><li><span><a href=\"#Model-building:-using-data-scaling\" data-toc-modified-id=\"Model-building:-using-data-scaling-4\"><span class=\"toc-item-num\">4&nbsp;&nbsp;</span>Model building: using data scaling</a></span><ul class=\"toc-item\"><li><span><a href=\"#Ridge:\" data-toc-modified-id=\"Ridge:-4.1\"><span class=\"toc-item-num\">4.1&nbsp;&nbsp;</span>Ridge:</a></span></li><li><span><a href=\"#RandomForestRegressor:\" data-toc-modified-id=\"RandomForestRegressor:-4.2\"><span class=\"toc-item-num\">4.2&nbsp;&nbsp;</span>RandomForestRegressor:</a></span></li><li><span><a href=\"#Linear-Kernel-SVM\" data-toc-modified-id=\"Linear-Kernel-SVM-4.3\"><span class=\"toc-item-num\">4.3&nbsp;&nbsp;</span>Linear Kernel SVM</a></span></li><li><span><a href=\"#Polynomial-Kernel-SVM\" data-toc-modified-id=\"Polynomial-Kernel-SVM-4.4\"><span class=\"toc-item-num\">4.4&nbsp;&nbsp;</span>Polynomial Kernel SVM</a></span></li><li><span><a href=\"#Radial-Kernel-SVM\" data-toc-modified-id=\"Radial-Kernel-SVM-4.5\"><span class=\"toc-item-num\">4.5&nbsp;&nbsp;</span>Radial Kernel SVM</a></span></li><li><span><a href=\"#MinMaxScaler:\" data-toc-modified-id=\"MinMaxScaler:-4.6\"><span class=\"toc-item-num\">4.6&nbsp;&nbsp;</span>MinMaxScaler:</a></span></li><li><span><a href=\"#Standard-Scaler:\" data-toc-modified-id=\"Standard-Scaler:-4.7\"><span class=\"toc-item-num\">4.7&nbsp;&nbsp;</span>Standard Scaler:</a></span></li><li><span><a href=\"#Support-Vector-Machine-Hyperparameter-tuning\" data-toc-modified-id=\"Support-Vector-Machine-Hyperparameter-tuning-4.8\"><span class=\"toc-item-num\">4.8&nbsp;&nbsp;</span>Support Vector Machine Hyperparameter tuning</a></span></li></ul></li></ul></div>"
   ]
  },
  {
   "cell_type": "markdown",
   "metadata": {
    "_cell_guid": "85e60258-69b7-75a0-6101-171d067448ed",
    "_uuid": "3598b750c1667dd6b3f8cb57ad3e67ea27c8ff2e",
    "colab_type": "text",
    "id": "TRX9qa5RAhRc"
   },
   "source": [
    "<h1> House Prices #2 <span class=\"tocSkip\"></span></h1>\n",
    "\n",
    "\n",
    "<h2> Introduction <span class=\"tocSkip\"></span></h2>\n",
    "\n",
    "This Notebook kernel contains regression and classification machine learning algorithms to predict house prices of residential homes in Ames, Iowa.\n",
    "\n",
    "<h2> Business Case <span class=\"tocSkip\"></span></h2>\n",
    "\n",
    "AmesHouse Real State is a real estate company located in Ames (USA) which has a team of professionals interested in improving their business model. For now, they use classic market analysis methods using different factors to try to predict the price of the housing market in their area. Their analysis methods are complete, but they have the impression that they are missing some variable.\n",
    "To complement and improve their predictions, AmesHouse Real State has contacted us because they are interested in having a powerful and accurate method to predict the price of houses located in that city.\n",
    "\n",
    "> Dataset: https://www.kaggle.com/c/house-prices-advanced-regression-techniques/data"
   ]
  },
  {
   "cell_type": "markdown",
   "metadata": {},
   "source": [
    "# Load the libraries and the dataset "
   ]
  },
  {
   "cell_type": "code",
   "execution_count": 1,
   "metadata": {
    "ExecuteTime": {
     "end_time": "2020-03-10T07:03:02.745487Z",
     "start_time": "2020-03-10T07:03:02.740331Z"
    },
    "_cell_guid": "8ae1f2f6-9488-9c61-45a4-5c72262d012b",
    "_uuid": "b2a5e42ea07e63f20c211589656aaca5f81cd669",
    "colab": {},
    "colab_type": "code",
    "id": "Ct5ARyvcAhT6"
   },
   "outputs": [],
   "source": [
    "# Adding the libraries and reading data\n",
    "\n",
    "#Import common modules\n",
    "\n",
    "import pandas as pd\n",
    "pd.options.mode.chained_assignment = None\n",
    "\n",
    "import numpy as np\n",
    "from matplotlib import pyplot as plt\n",
    "import seaborn as sns\n",
    "import matplotlib\n",
    "import plotly.express as px\n",
    "\n",
    "import warnings\n",
    "warnings.filterwarnings(\"ignore\", message=\"numpy.dtype size changed\")\n",
    "from plotly.offline import download_plotlyjs, init_notebook_mode, plot, iplot\n",
    "import plotly.tools as tls\n",
    "import plotly.graph_objs as go\n",
    "import plotly\n",
    "import plotly.figure_factory as ff\n",
    "plt.rcParams['figure.dpi'] = 300\n",
    "\n",
    "# Load libraries\n",
    "from pandas import set_option\n",
    "from sklearn.preprocessing import StandardScaler\n",
    "from sklearn.preprocessing import MinMaxScaler, RobustScaler\n",
    "\n",
    "import os\n",
    "\n",
    "\n",
    "from IPython.display import display\n",
    "from sklearn.model_selection import train_test_split\n",
    "import plotly.offline as py\n",
    "import plotly.graph_objs as go\n",
    "from sklearn.model_selection import train_test_split\n",
    "from sklearn.model_selection import KFold\n",
    "from sklearn.model_selection import StratifiedKFold\n",
    "from sklearn.model_selection import cross_val_score\n",
    "from sklearn.model_selection import GridSearchCV\n",
    "from sklearn.metrics import classification_report\n",
    "from sklearn.metrics import confusion_matrix\n",
    "from sklearn.metrics import accuracy_score\n",
    "from sklearn.linear_model import LogisticRegression\n",
    "from sklearn.tree import DecisionTreeClassifier\n",
    "from sklearn.neighbors import KNeighborsClassifier\n",
    "from sklearn.discriminant_analysis import LinearDiscriminantAnalysis \n",
    "from sklearn.svm import SVC\n",
    "from sklearn.ensemble import RandomForestClassifier\n",
    "from sklearn.ensemble import ExtraTreesClassifier\n",
    "import warnings \n",
    "warnings.filterwarnings('ignore')\n",
    "\n",
    "from sklearn.model_selection import train_test_split \n",
    "from sklearn.metrics import mean_squared_error\n",
    "from sklearn.linear_model import LinearRegression \n",
    "from sklearn.preprocessing import PolynomialFeatures \n",
    "from sklearn import metrics\n",
    "from sklearn.metrics import r2_score"
   ]
  },
  {
   "cell_type": "code",
   "execution_count": 2,
   "metadata": {},
   "outputs": [
    {
     "data": {
      "text/html": [
       "        <script type=\"text/javascript\">\n",
       "        window.PlotlyConfig = {MathJaxConfig: 'local'};\n",
       "        if (window.MathJax) {MathJax.Hub.Config({SVG: {font: \"STIX-Web\"}});}\n",
       "        if (typeof require !== 'undefined') {\n",
       "        require.undef(\"plotly\");\n",
       "        requirejs.config({\n",
       "            paths: {\n",
       "                'plotly': ['https://cdn.plot.ly/plotly-latest.min']\n",
       "            }\n",
       "        });\n",
       "        require(['plotly'], function(Plotly) {\n",
       "            window._Plotly = Plotly;\n",
       "        });\n",
       "        }\n",
       "        </script>\n",
       "        "
      ]
     },
     "metadata": {},
     "output_type": "display_data"
    }
   ],
   "source": [
    "import sys\n",
    "sys.path.insert(0, '/Users/agieen/Downloads/AllWomen/_functions_')\n",
    "\n",
    "from My_functions_EDA import *\n",
    "from fx_MLRegression import *\n",
    "from functions_plot_EDA import *\n",
    "from fx_MLClassification import *"
   ]
  },
  {
   "cell_type": "code",
   "execution_count": 3,
   "metadata": {},
   "outputs": [],
   "source": [
    "df = pd.read_csv(r\"../../datasets/3.0.1Filtered_Houses.csv\",index_col=0)"
   ]
  },
  {
   "cell_type": "code",
   "execution_count": 4,
   "metadata": {},
   "outputs": [
    {
     "data": {
      "text/html": [
       "<div>\n",
       "<style scoped>\n",
       "    .dataframe tbody tr th:only-of-type {\n",
       "        vertical-align: middle;\n",
       "    }\n",
       "\n",
       "    .dataframe tbody tr th {\n",
       "        vertical-align: top;\n",
       "    }\n",
       "\n",
       "    .dataframe thead th {\n",
       "        text-align: right;\n",
       "    }\n",
       "</style>\n",
       "<table border=\"1\" class=\"dataframe\">\n",
       "  <thead>\n",
       "    <tr style=\"text-align: right;\">\n",
       "      <th></th>\n",
       "      <th>OverallQual</th>\n",
       "      <th>TotRmsAbvGrd</th>\n",
       "      <th>GarageCars</th>\n",
       "      <th>YearBuilt</th>\n",
       "      <th>YearRemodAdd</th>\n",
       "      <th>BsmtQual</th>\n",
       "      <th>Fireplaces</th>\n",
       "      <th>BsmtExposure</th>\n",
       "      <th>FullBath</th>\n",
       "      <th>KitchenQual</th>\n",
       "      <th>SalePrice</th>\n",
       "    </tr>\n",
       "    <tr>\n",
       "      <th>Id</th>\n",
       "      <th></th>\n",
       "      <th></th>\n",
       "      <th></th>\n",
       "      <th></th>\n",
       "      <th></th>\n",
       "      <th></th>\n",
       "      <th></th>\n",
       "      <th></th>\n",
       "      <th></th>\n",
       "      <th></th>\n",
       "      <th></th>\n",
       "    </tr>\n",
       "  </thead>\n",
       "  <tbody>\n",
       "    <tr>\n",
       "      <th>1</th>\n",
       "      <td>7</td>\n",
       "      <td>8</td>\n",
       "      <td>2</td>\n",
       "      <td>2003</td>\n",
       "      <td>2003</td>\n",
       "      <td>4</td>\n",
       "      <td>0</td>\n",
       "      <td>2</td>\n",
       "      <td>2</td>\n",
       "      <td>4</td>\n",
       "      <td>208500</td>\n",
       "    </tr>\n",
       "    <tr>\n",
       "      <th>2</th>\n",
       "      <td>6</td>\n",
       "      <td>6</td>\n",
       "      <td>2</td>\n",
       "      <td>1976</td>\n",
       "      <td>1976</td>\n",
       "      <td>4</td>\n",
       "      <td>1</td>\n",
       "      <td>5</td>\n",
       "      <td>2</td>\n",
       "      <td>3</td>\n",
       "      <td>181500</td>\n",
       "    </tr>\n",
       "    <tr>\n",
       "      <th>3</th>\n",
       "      <td>7</td>\n",
       "      <td>6</td>\n",
       "      <td>2</td>\n",
       "      <td>2001</td>\n",
       "      <td>2002</td>\n",
       "      <td>4</td>\n",
       "      <td>1</td>\n",
       "      <td>3</td>\n",
       "      <td>2</td>\n",
       "      <td>4</td>\n",
       "      <td>223500</td>\n",
       "    </tr>\n",
       "    <tr>\n",
       "      <th>4</th>\n",
       "      <td>7</td>\n",
       "      <td>7</td>\n",
       "      <td>3</td>\n",
       "      <td>1915</td>\n",
       "      <td>1970</td>\n",
       "      <td>3</td>\n",
       "      <td>1</td>\n",
       "      <td>2</td>\n",
       "      <td>1</td>\n",
       "      <td>4</td>\n",
       "      <td>140000</td>\n",
       "    </tr>\n",
       "    <tr>\n",
       "      <th>5</th>\n",
       "      <td>8</td>\n",
       "      <td>9</td>\n",
       "      <td>3</td>\n",
       "      <td>2000</td>\n",
       "      <td>2000</td>\n",
       "      <td>4</td>\n",
       "      <td>1</td>\n",
       "      <td>4</td>\n",
       "      <td>2</td>\n",
       "      <td>4</td>\n",
       "      <td>250000</td>\n",
       "    </tr>\n",
       "  </tbody>\n",
       "</table>\n",
       "</div>"
      ],
      "text/plain": [
       "    OverallQual  TotRmsAbvGrd  GarageCars  YearBuilt  YearRemodAdd  BsmtQual  \\\n",
       "Id                                                                             \n",
       "1             7             8           2       2003          2003         4   \n",
       "2             6             6           2       1976          1976         4   \n",
       "3             7             6           2       2001          2002         4   \n",
       "4             7             7           3       1915          1970         3   \n",
       "5             8             9           3       2000          2000         4   \n",
       "\n",
       "    Fireplaces  BsmtExposure  FullBath  KitchenQual  SalePrice  \n",
       "Id                                                              \n",
       "1            0             2         2            4     208500  \n",
       "2            1             5         2            3     181500  \n",
       "3            1             3         2            4     223500  \n",
       "4            1             2         1            4     140000  \n",
       "5            1             4         2            4     250000  "
      ]
     },
     "execution_count": 4,
     "metadata": {},
     "output_type": "execute_result"
    }
   ],
   "source": [
    "df.head()"
   ]
  },
  {
   "cell_type": "code",
   "execution_count": 5,
   "metadata": {},
   "outputs": [
    {
     "data": {
      "text/plain": [
       "Index(['OverallQual', 'TotRmsAbvGrd', 'GarageCars', 'YearBuilt',\n",
       "       'YearRemodAdd', 'BsmtQual', 'Fireplaces', 'BsmtExposure', 'FullBath',\n",
       "       'KitchenQual', 'SalePrice'],\n",
       "      dtype='object')"
      ]
     },
     "execution_count": 5,
     "metadata": {},
     "output_type": "execute_result"
    }
   ],
   "source": [
    "df.columns"
   ]
  },
  {
   "cell_type": "markdown",
   "metadata": {},
   "source": [
    "# Study the variable target \n"
   ]
  },
  {
   "cell_type": "markdown",
   "metadata": {
    "_cell_guid": "f82fdd70-55e4-27b2-cdae-3a3657ff6e74",
    "_uuid": "73634d3676d15f388f5717c68dd2aade76460085",
    "colab_type": "text",
    "id": "BlR1zVe6AhZ-"
   },
   "source": [
    "## Scaling variables"
   ]
  },
  {
   "cell_type": "code",
   "execution_count": 6,
   "metadata": {},
   "outputs": [],
   "source": [
    "# Checking the skewness of the target variable:"
   ]
  },
  {
   "cell_type": "code",
   "execution_count": 7,
   "metadata": {},
   "outputs": [
    {
     "data": {
      "image/png": "[encoded data removed]",
      "text/plain": [
       "<Figure size 432x288 with 1 Axes>"
      ]
     },
     "metadata": {
      "needs_background": "light"
     },
     "output_type": "display_data"
    }
   ],
   "source": [
    "sns.distplot(df.SalePrice);"
   ]
  },
  {
   "cell_type": "code",
   "execution_count": 8,
   "metadata": {},
   "outputs": [
    {
     "name": "stdout",
     "output_type": "stream",
     "text": [
      "Skewness: 1.5673206992654365\n",
      "Kurtosis: 3.8949145868346835\n"
     ]
    }
   ],
   "source": [
    "print(\"Skewness: \" + str(df['SalePrice'].skew()))\n",
    "print(\"Kurtosis: \" + str(df['SalePrice'].kurt()))"
   ]
  },
  {
   "cell_type": "code",
   "execution_count": 9,
   "metadata": {},
   "outputs": [],
   "source": [
    "data = df.copy()"
   ]
  },
  {
   "cell_type": "markdown",
   "metadata": {},
   "source": [
    "We can see that SalePrice deviates from the normal distribution and that it's right skewed.\n",
    "\n",
    "We should transform the variable to have more normal distribution:"
   ]
  },
  {
   "cell_type": "code",
   "execution_count": 10,
   "metadata": {},
   "outputs": [
    {
     "data": {
      "image/png": "[encoded data removed]",
      "text/plain": [
       "<Figure size 432x288 with 1 Axes>"
      ]
     },
     "metadata": {
      "needs_background": "light"
     },
     "output_type": "display_data"
    }
   ],
   "source": [
    "from scipy.stats import norm, skew \n",
    "from scipy import stats \n",
    "\n",
    "data[\"SalePrice\"] = np.log1p(data[\"SalePrice\"])\n",
    "\n",
    "# Let's check the new distribution of SalePrice:\n",
    "\n",
    "sns.distplot(data['SalePrice'] , fit=norm);"
   ]
  },
  {
   "cell_type": "code",
   "execution_count": 11,
   "metadata": {},
   "outputs": [
    {
     "name": "stdout",
     "output_type": "stream",
     "text": [
      "Skewness: 0.06516911299719555\n",
      "Kurtosis: 0.6710293813194355\n"
     ]
    }
   ],
   "source": [
    "print(\"Skewness: \" + str(data['SalePrice'].skew()))\n",
    "print(\"Kurtosis: \" + str(data['SalePrice'].kurt()))"
   ]
  },
  {
   "cell_type": "code",
   "execution_count": 12,
   "metadata": {},
   "outputs": [],
   "source": [
    "# The Skewness and Kurtosis were successfully reduced"
   ]
  },
  {
   "cell_type": "code",
   "execution_count": 13,
   "metadata": {},
   "outputs": [
    {
     "data": {
      "text/plain": [
       "Index(['OverallQual', 'TotRmsAbvGrd', 'GarageCars', 'YearBuilt',\n",
       "       'YearRemodAdd', 'BsmtQual', 'Fireplaces', 'BsmtExposure', 'FullBath',\n",
       "       'KitchenQual', 'SalePrice'],\n",
       "      dtype='object')"
      ]
     },
     "execution_count": 13,
     "metadata": {},
     "output_type": "execute_result"
    }
   ],
   "source": [
    "data.columns"
   ]
  },
  {
   "cell_type": "code",
   "execution_count": 14,
   "metadata": {},
   "outputs": [
    {
     "data": {
      "image/png": "[encoded data removed]",
      "text/plain": [
       "<Figure size 864x1440 with 12 Axes>"
      ]
     },
     "metadata": {
      "needs_background": "light"
     },
     "output_type": "display_data"
    }
   ],
   "source": [
    "# Checking the skewness of all the variables:\n",
    "\n",
    "fig, axes = plt.subplots(6,2 , figsize=(12, 20), sharex=False)\n",
    "\n",
    "for i, column in enumerate(data.columns):\n",
    "    sns.distplot(data[column],ax=axes[i//2,i%2])"
   ]
  },
  {
   "cell_type": "markdown",
   "metadata": {},
   "source": [
    "<h3>Quite a few variables are skewed, however, let's try building our models without any modifications first.<span class=\"tocSkip\"></span></h3>"
   ]
  },
  {
   "cell_type": "code",
   "execution_count": 15,
   "metadata": {},
   "outputs": [],
   "source": [
    "data2 = data.copy()"
   ]
  },
  {
   "cell_type": "code",
   "execution_count": 16,
   "metadata": {},
   "outputs": [],
   "source": [
    "# Defining the upper and lower limit of the SalePrice: 99% and 1%\n",
    "\n",
    "upperlim = np.percentile(data2['SalePrice'].values, 99)\n",
    "lowerlim = np.percentile(data2['SalePrice'].values, 1)"
   ]
  },
  {
   "cell_type": "code",
   "execution_count": 17,
   "metadata": {},
   "outputs": [],
   "source": [
    "data2 = data2[data2['SalePrice'] < upperlim]  \n",
    "data2 = data2[data2['SalePrice'] > lowerlim]"
   ]
  },
  {
   "cell_type": "code",
   "execution_count": 18,
   "metadata": {},
   "outputs": [
    {
     "data": {
      "image/png": "[encoded data removed]",
      "text/plain": [
       "<Figure size 432x288 with 1 Axes>"
      ]
     },
     "metadata": {
      "needs_background": "light"
     },
     "output_type": "display_data"
    }
   ],
   "source": [
    "# Scatter plot showing the distribution of the SalePrice before and after \n",
    "# removing the outliers (red and blue dots respectively):\n",
    "\n",
    "\n",
    "plt.scatter(data[\"SalePrice\"].values, range(data.shape[0]), color='red')\n",
    "\n",
    "plt.scatter(data2[\"SalePrice\"].values, range(data2.shape[0]),color='blue')\n",
    "\n",
    "plt.title(\"Sale Price Distribution\")\n",
    "plt.xlabel(\"Sale Price\")\n",
    "plt.ylabel(\"Frequency\");\n",
    "\n"
   ]
  },
  {
   "cell_type": "markdown",
   "metadata": {},
   "source": [
    "# Model building: Baseline Model\n"
   ]
  },
  {
   "cell_type": "markdown",
   "metadata": {},
   "source": [
    "## Linear Regression: OverallQual vs SalePrice"
   ]
  },
  {
   "cell_type": "code",
   "execution_count": 19,
   "metadata": {},
   "outputs": [],
   "source": [
    "# 1. Split the data into TRAIN and TEST:\n",
    "\n",
    "X = data2.OverallQual #non-target\n",
    "y = data2.SalePrice #target\n",
    "\n",
    "\n",
    "X_train, X_test, y_train, y_test =train_test_split(X,y,test_size=0.3,random_state=42)"
   ]
  },
  {
   "cell_type": "code",
   "execution_count": 20,
   "metadata": {},
   "outputs": [
    {
     "name": "stdout",
     "output_type": "stream",
     "text": [
      "Shape of the raw data (X): (1428,)\n",
      "Shape of the TARGET variable (y): (1428,)\n",
      "\n",
      "Shape of the Train data (X_train): (999,)\n",
      "Shape of the Train data (y_train): (999,)\n",
      "\n",
      "Shape of the Test data (X_test): (429,)\n",
      "Shape of the TARGET Test data (y_test): (429,)\n"
     ]
    }
   ],
   "source": [
    "print('Shape of the raw data (X): {}'.format (X.shape)) \n",
    "print('Shape of the TARGET variable (y): {}'.format (y.shape))\n",
    "print('\\nShape of the Train data (X_train): {}'.format (X_train.shape)) \n",
    "print('Shape of the Train data (y_train): {}'.format (y_train.shape))\n",
    "print('\\nShape of the Test data (X_test): {}'.format (X_test.shape)) \n",
    "print('Shape of the TARGET Test data (y_test): {}'.format (y_test.shape))"
   ]
  },
  {
   "cell_type": "code",
   "execution_count": 21,
   "metadata": {},
   "outputs": [],
   "source": [
    "y_train = np.array(y_train).reshape(-1, 1) \n",
    "X_train = np.array(X_train).reshape(-1, 1) \n",
    "y_test = np.array(y_test).reshape(-1, 1) \n",
    "X_test = np.array(X_test).reshape(-1, 1)"
   ]
  },
  {
   "cell_type": "code",
   "execution_count": 22,
   "metadata": {},
   "outputs": [
    {
     "data": {
      "text/plain": [
       "LinearRegression()"
      ]
     },
     "execution_count": 22,
     "metadata": {},
     "output_type": "execute_result"
    }
   ],
   "source": [
    "lm = LinearRegression() \n",
    "lm.fit(X_train, y_train)"
   ]
  },
  {
   "cell_type": "code",
   "execution_count": 23,
   "metadata": {},
   "outputs": [
    {
     "data": {
      "text/html": [
       "<div>\n",
       "<style scoped>\n",
       "    .dataframe tbody tr th:only-of-type {\n",
       "        vertical-align: middle;\n",
       "    }\n",
       "\n",
       "    .dataframe tbody tr th {\n",
       "        vertical-align: top;\n",
       "    }\n",
       "\n",
       "    .dataframe thead th {\n",
       "        text-align: right;\n",
       "    }\n",
       "</style>\n",
       "<table border=\"1\" class=\"dataframe\">\n",
       "  <thead>\n",
       "    <tr style=\"text-align: right;\">\n",
       "      <th></th>\n",
       "      <th>MAE</th>\n",
       "      <th>MSE</th>\n",
       "      <th>RMSE</th>\n",
       "      <th>R2</th>\n",
       "      <th>CV_R2</th>\n",
       "    </tr>\n",
       "  </thead>\n",
       "  <tbody>\n",
       "    <tr>\n",
       "      <th>Train</th>\n",
       "      <td>0.164701</td>\n",
       "      <td>0.047056</td>\n",
       "      <td>0.216924</td>\n",
       "      <td>0.646416</td>\n",
       "      <td>0.639</td>\n",
       "    </tr>\n",
       "    <tr>\n",
       "      <th>Test</th>\n",
       "      <td>0.169280</td>\n",
       "      <td>0.048673</td>\n",
       "      <td>0.220620</td>\n",
       "      <td>0.612270</td>\n",
       "      <td>NaN</td>\n",
       "    </tr>\n",
       "  </tbody>\n",
       "</table>\n",
       "</div>"
      ],
      "text/plain": [
       "            MAE       MSE      RMSE        R2  CV_R2\n",
       "Train  0.164701  0.047056  0.216924  0.646416  0.639\n",
       "Test   0.169280  0.048673  0.220620  0.612270    NaN"
      ]
     },
     "execution_count": 23,
     "metadata": {},
     "output_type": "execute_result"
    }
   ],
   "source": [
    "lm_m = Allmetrics(lm, X_train, y_train,X_test, y_test) \n",
    "lm_m"
   ]
  },
  {
   "cell_type": "code",
   "execution_count": 24,
   "metadata": {},
   "outputs": [
    {
     "name": "stdout",
     "output_type": "stream",
     "text": [
      "Accuracy = 0.6122701783970892\n"
     ]
    }
   ],
   "source": [
    "accuracy = lm.score(X_test, y_test) \n",
    "print('Accuracy = '+ str(accuracy))"
   ]
  },
  {
   "cell_type": "code",
   "execution_count": 25,
   "metadata": {},
   "outputs": [
    {
     "name": "stdout",
     "output_type": "stream",
     "text": [
      "Intercept of the Linear model [10.65714536]\n",
      "[[0.22424399]]\n"
     ]
    }
   ],
   "source": [
    "print('Intercept of the Linear model', lm.intercept_) \n",
    "print(lm.coef_)"
   ]
  },
  {
   "cell_type": "code",
   "execution_count": 26,
   "metadata": {},
   "outputs": [
    {
     "name": "stdout",
     "output_type": "stream",
     "text": [
      "The predicted values for your Test test are: [[12.00260932]\n",
      " [12.00260932]\n",
      " [12.00260932]\n",
      " [12.00260932]\n",
      " [12.4510973 ]\n",
      " [12.4510973 ]\n",
      " [11.77836532]\n",
      " [11.77836532]\n",
      " [12.22685331]\n",
      " [12.00260932]\n",
      " [12.67534129]\n",
      " [12.4510973 ]\n",
      " [12.4510973 ]\n",
      " [11.32987734]\n",
      " [12.22685331]\n",
      " [12.00260932]\n",
      " [12.00260932]\n",
      " [12.00260932]\n",
      " [11.77836532]\n",
      " [11.77836532]\n",
      " [12.22685331]\n",
      " [12.22685331]\n",
      " [12.4510973 ]\n",
      " [12.4510973 ]\n",
      " [11.55412133]\n",
      " [12.22685331]\n",
      " [11.77836532]\n",
      " [12.00260932]\n",
      " [12.22685331]\n",
      " [12.00260932]\n",
      " [11.77836532]\n",
      " [11.55412133]\n",
      " [11.55412133]\n",
      " [12.00260932]\n",
      " [12.00260932]\n",
      " [12.22685331]\n",
      " [12.67534129]\n",
      " [12.00260932]\n",
      " [12.4510973 ]\n",
      " [11.55412133]\n",
      " [12.67534129]\n",
      " [11.77836532]\n",
      " [12.22685331]\n",
      " [11.77836532]\n",
      " [12.00260932]\n",
      " [12.67534129]\n",
      " [11.55412133]\n",
      " [12.00260932]\n",
      " [12.4510973 ]\n",
      " [12.00260932]\n",
      " [12.4510973 ]\n",
      " [12.00260932]\n",
      " [12.00260932]\n",
      " [12.00260932]\n",
      " [11.77836532]\n",
      " [11.77836532]\n",
      " [12.00260932]\n",
      " [12.22685331]\n",
      " [11.77836532]\n",
      " [12.22685331]\n",
      " [11.77836532]\n",
      " [11.77836532]\n",
      " [12.4510973 ]\n",
      " [11.77836532]\n",
      " [12.4510973 ]\n",
      " [12.4510973 ]\n",
      " [12.00260932]\n",
      " [11.77836532]\n",
      " [12.22685331]\n",
      " [12.00260932]\n",
      " [12.4510973 ]\n",
      " [12.00260932]\n",
      " [12.22685331]\n",
      " [11.55412133]\n",
      " [12.00260932]\n",
      " [11.77836532]\n",
      " [12.22685331]\n",
      " [12.00260932]\n",
      " [11.77836532]\n",
      " [12.22685331]\n",
      " [11.77836532]\n",
      " [12.22685331]\n",
      " [12.22685331]\n",
      " [12.00260932]\n",
      " [12.4510973 ]\n",
      " [11.77836532]\n",
      " [12.4510973 ]\n",
      " [12.00260932]\n",
      " [12.4510973 ]\n",
      " [12.00260932]\n",
      " [12.22685331]\n",
      " [12.22685331]\n",
      " [11.77836532]\n",
      " [12.4510973 ]\n",
      " [12.00260932]\n",
      " [12.4510973 ]\n",
      " [12.4510973 ]\n",
      " [11.77836532]\n",
      " [11.77836532]\n",
      " [12.22685331]\n",
      " [11.77836532]\n",
      " [12.89958529]\n",
      " [11.77836532]\n",
      " [11.77836532]\n",
      " [12.00260932]\n",
      " [11.55412133]\n",
      " [12.4510973 ]\n",
      " [12.00260932]\n",
      " [11.77836532]\n",
      " [11.77836532]\n",
      " [12.00260932]\n",
      " [12.00260932]\n",
      " [12.22685331]\n",
      " [11.77836532]\n",
      " [12.00260932]\n",
      " [12.22685331]\n",
      " [12.4510973 ]\n",
      " [12.00260932]\n",
      " [11.77836532]\n",
      " [12.22685331]\n",
      " [12.4510973 ]\n",
      " [11.77836532]\n",
      " [12.00260932]\n",
      " [12.22685331]\n",
      " [12.22685331]\n",
      " [12.22685331]\n",
      " [11.77836532]\n",
      " [11.77836532]\n",
      " [11.77836532]\n",
      " [12.00260932]\n",
      " [12.4510973 ]\n",
      " [11.55412133]\n",
      " [11.55412133]\n",
      " [12.4510973 ]\n",
      " [11.77836532]\n",
      " [11.77836532]\n",
      " [12.00260932]\n",
      " [12.22685331]\n",
      " [11.55412133]\n",
      " [12.89958529]\n",
      " [12.22685331]\n",
      " [12.00260932]\n",
      " [12.4510973 ]\n",
      " [11.77836532]\n",
      " [11.77836532]\n",
      " [11.77836532]\n",
      " [12.00260932]\n",
      " [11.77836532]\n",
      " [12.4510973 ]\n",
      " [12.22685331]\n",
      " [12.00260932]\n",
      " [11.77836532]\n",
      " [12.00260932]\n",
      " [11.55412133]\n",
      " [12.22685331]\n",
      " [12.00260932]\n",
      " [11.77836532]\n",
      " [11.77836532]\n",
      " [12.22685331]\n",
      " [11.77836532]\n",
      " [11.55412133]\n",
      " [12.00260932]\n",
      " [11.77836532]\n",
      " [12.00260932]\n",
      " [11.55412133]\n",
      " [12.00260932]\n",
      " [12.00260932]\n",
      " [12.22685331]\n",
      " [11.77836532]\n",
      " [11.77836532]\n",
      " [11.77836532]\n",
      " [12.22685331]\n",
      " [12.00260932]\n",
      " [11.55412133]\n",
      " [12.22685331]\n",
      " [12.00260932]\n",
      " [12.4510973 ]\n",
      " [12.00260932]\n",
      " [12.00260932]\n",
      " [11.77836532]\n",
      " [12.22685331]\n",
      " [12.00260932]\n",
      " [12.22685331]\n",
      " [12.00260932]\n",
      " [12.00260932]\n",
      " [12.00260932]\n",
      " [12.00260932]\n",
      " [12.4510973 ]\n",
      " [12.4510973 ]\n",
      " [11.77836532]\n",
      " [11.77836532]\n",
      " [11.77836532]\n",
      " [12.4510973 ]\n",
      " [12.67534129]\n",
      " [12.00260932]\n",
      " [12.00260932]\n",
      " [11.77836532]\n",
      " [12.67534129]\n",
      " [11.77836532]\n",
      " [12.00260932]\n",
      " [12.00260932]\n",
      " [11.77836532]\n",
      " [12.00260932]\n",
      " [12.00260932]\n",
      " [11.77836532]\n",
      " [12.67534129]\n",
      " [11.77836532]\n",
      " [12.22685331]\n",
      " [12.22685331]\n",
      " [11.77836532]\n",
      " [11.55412133]\n",
      " [11.77836532]\n",
      " [11.77836532]\n",
      " [12.00260932]\n",
      " [12.4510973 ]\n",
      " [11.55412133]\n",
      " [11.55412133]\n",
      " [12.22685331]\n",
      " [12.00260932]\n",
      " [11.77836532]\n",
      " [12.00260932]\n",
      " [12.67534129]\n",
      " [12.22685331]\n",
      " [12.22685331]\n",
      " [12.00260932]\n",
      " [12.00260932]\n",
      " [12.4510973 ]\n",
      " [11.77836532]\n",
      " [11.77836532]\n",
      " [12.00260932]\n",
      " [12.00260932]\n",
      " [12.22685331]\n",
      " [12.4510973 ]\n",
      " [11.77836532]\n",
      " [11.77836532]\n",
      " [12.00260932]\n",
      " [11.77836532]\n",
      " [12.22685331]\n",
      " [11.77836532]\n",
      " [12.00260932]\n",
      " [12.22685331]\n",
      " [12.22685331]\n",
      " [11.77836532]\n",
      " [12.22685331]\n",
      " [11.77836532]\n",
      " [12.00260932]\n",
      " [12.00260932]\n",
      " [11.55412133]\n",
      " [11.77836532]\n",
      " [12.00260932]\n",
      " [11.55412133]\n",
      " [12.22685331]\n",
      " [12.00260932]\n",
      " [11.77836532]\n",
      " [12.22685331]\n",
      " [12.22685331]\n",
      " [12.00260932]\n",
      " [12.22685331]\n",
      " [12.00260932]\n",
      " [12.00260932]\n",
      " [11.77836532]\n",
      " [11.77836532]\n",
      " [12.22685331]\n",
      " [12.22685331]\n",
      " [12.22685331]\n",
      " [12.00260932]\n",
      " [12.22685331]\n",
      " [11.32987734]\n",
      " [12.00260932]\n",
      " [12.00260932]\n",
      " [12.00260932]\n",
      " [11.77836532]\n",
      " [12.4510973 ]\n",
      " [11.77836532]\n",
      " [11.77836532]\n",
      " [11.77836532]\n",
      " [12.00260932]\n",
      " [12.22685331]\n",
      " [12.67534129]\n",
      " [12.00260932]\n",
      " [11.77836532]\n",
      " [12.00260932]\n",
      " [11.77836532]\n",
      " [12.00260932]\n",
      " [12.00260932]\n",
      " [12.22685331]\n",
      " [12.00260932]\n",
      " [11.77836532]\n",
      " [12.4510973 ]\n",
      " [12.00260932]\n",
      " [11.77836532]\n",
      " [12.00260932]\n",
      " [12.4510973 ]\n",
      " [12.22685331]\n",
      " [12.00260932]\n",
      " [12.22685331]\n",
      " [12.00260932]\n",
      " [11.77836532]\n",
      " [12.22685331]\n",
      " [12.67534129]\n",
      " [12.22685331]\n",
      " [11.77836532]\n",
      " [12.4510973 ]\n",
      " [11.77836532]\n",
      " [11.77836532]\n",
      " [12.00260932]\n",
      " [11.32987734]\n",
      " [12.00260932]\n",
      " [12.22685331]\n",
      " [12.22685331]\n",
      " [11.77836532]\n",
      " [12.4510973 ]\n",
      " [11.55412133]\n",
      " [11.55412133]\n",
      " [12.00260932]\n",
      " [12.22685331]\n",
      " [12.00260932]\n",
      " [12.22685331]\n",
      " [11.77836532]\n",
      " [11.77836532]\n",
      " [12.22685331]\n",
      " [12.22685331]\n",
      " [12.00260932]\n",
      " [12.00260932]\n",
      " [12.22685331]\n",
      " [11.77836532]\n",
      " [11.55412133]\n",
      " [11.77836532]\n",
      " [12.22685331]\n",
      " [12.22685331]\n",
      " [11.77836532]\n",
      " [11.77836532]\n",
      " [12.22685331]\n",
      " [12.00260932]\n",
      " [11.77836532]\n",
      " [12.00260932]\n",
      " [12.22685331]\n",
      " [12.4510973 ]\n",
      " [12.22685331]\n",
      " [12.89958529]\n",
      " [11.77836532]\n",
      " [11.32987734]\n",
      " [12.00260932]\n",
      " [11.77836532]\n",
      " [11.77836532]\n",
      " [12.4510973 ]\n",
      " [12.67534129]\n",
      " [11.55412133]\n",
      " [12.4510973 ]\n",
      " [12.4510973 ]\n",
      " [11.77836532]\n",
      " [12.00260932]\n",
      " [12.00260932]\n",
      " [11.77836532]\n",
      " [12.00260932]\n",
      " [12.00260932]\n",
      " [12.4510973 ]\n",
      " [12.22685331]\n",
      " [12.22685331]\n",
      " [11.77836532]\n",
      " [12.22685331]\n",
      " [11.77836532]\n",
      " [11.77836532]\n",
      " [11.77836532]\n",
      " [12.67534129]\n",
      " [12.22685331]\n",
      " [12.00260932]\n",
      " [12.4510973 ]\n",
      " [12.00260932]\n",
      " [11.77836532]\n",
      " [12.00260932]\n",
      " [12.00260932]\n",
      " [11.77836532]\n",
      " [11.77836532]\n",
      " [11.55412133]\n",
      " [11.77836532]\n",
      " [11.77836532]\n",
      " [11.77836532]\n",
      " [12.22685331]\n",
      " [12.00260932]\n",
      " [12.22685331]\n",
      " [12.00260932]\n",
      " [12.00260932]\n",
      " [11.77836532]\n",
      " [12.4510973 ]\n",
      " [11.77836532]\n",
      " [12.22685331]\n",
      " [12.67534129]\n",
      " [11.77836532]\n",
      " [12.00260932]\n",
      " [12.22685331]\n",
      " [12.22685331]\n",
      " [12.89958529]\n",
      " [12.22685331]\n",
      " [12.4510973 ]\n",
      " [12.00260932]\n",
      " [11.55412133]\n",
      " [12.22685331]\n",
      " [12.67534129]\n",
      " [12.00260932]\n",
      " [11.55412133]\n",
      " [12.00260932]\n",
      " [11.77836532]\n",
      " [12.00260932]\n",
      " [11.55412133]\n",
      " [11.77836532]\n",
      " [12.00260932]\n",
      " [12.00260932]\n",
      " [11.77836532]\n",
      " [11.77836532]\n",
      " [12.00260932]\n",
      " [11.77836532]\n",
      " [12.00260932]\n",
      " [12.22685331]\n",
      " [12.22685331]\n",
      " [12.22685331]\n",
      " [11.77836532]\n",
      " [12.22685331]\n",
      " [12.00260932]\n",
      " [11.32987734]\n",
      " [12.00260932]\n",
      " [12.4510973 ]\n",
      " [12.00260932]\n",
      " [12.22685331]\n",
      " [12.22685331]\n",
      " [12.00260932]\n",
      " [12.00260932]\n",
      " [11.77836532]\n",
      " [11.77836532]]\n"
     ]
    }
   ],
   "source": [
    "y_pred = lm.predict(X_test)\n",
    "print ('The predicted values for your Test test are:', y_pred)\n",
    "y_pred = np.array(y_pred).reshape(-1, 1)"
   ]
  },
  {
   "cell_type": "code",
   "execution_count": 27,
   "metadata": {},
   "outputs": [
    {
     "data": {
      "image/png": "[encoded data removed]",
      "text/plain": [
       "<Figure size 1080x576 with 1 Axes>"
      ]
     },
     "metadata": {
      "needs_background": "light"
     },
     "output_type": "display_data"
    }
   ],
   "source": [
    "# Let's see the predictions against the real values:\n",
    "\n",
    "plt.figure(figsize=(15,8)) \n",
    "plt.scatter(y_test,y_pred, color = 'black')\n",
    "plt.xlabel('True values') \n",
    "plt.ylabel('Predicted Y') \n",
    "plt.show();"
   ]
  },
  {
   "cell_type": "code",
   "execution_count": 28,
   "metadata": {},
   "outputs": [
    {
     "name": "stdout",
     "output_type": "stream",
     "text": [
      "          Real  Predicted\n",
      "0    11.344519  12.002609\n",
      "1    11.626263  12.002609\n",
      "2    12.138869  12.002609\n",
      "3    12.086732  12.002609\n",
      "4    12.644331  12.451097\n",
      "..         ...        ...\n",
      "424  11.891369  12.226853\n",
      "425  11.856522  12.002609\n",
      "426  12.301387  12.002609\n",
      "427  11.707678  11.778365\n",
      "428  11.767575  11.778365\n",
      "\n",
      "[429 rows x 2 columns]\n"
     ]
    }
   ],
   "source": [
    "dff = pd.DataFrame({'Real': y_test.flatten(), 'Predicted': y_pred.flatten()})\n",
    "print(dff)"
   ]
  },
  {
   "cell_type": "code",
   "execution_count": 29,
   "metadata": {},
   "outputs": [
    {
     "data": {
      "image/png": "[encoded data removed]",
      "text/plain": [
       "<Figure size 576x360 with 1 Axes>"
      ]
     },
     "metadata": {
      "needs_background": "light"
     },
     "output_type": "display_data"
    }
   ],
   "source": [
    "#Barplot with the first 20 values:\n",
    "\n",
    "df1 = dff.head(20) \n",
    "df1.plot(kind='bar',figsize=(8,5), color=['green', 'blue']) \n",
    "plt.show();\n"
   ]
  },
  {
   "cell_type": "code",
   "execution_count": 30,
   "metadata": {},
   "outputs": [
    {
     "data": {
      "image/png": "[encoded data removed]",
      "text/plain": [
       "<Figure size 576x396 with 1 Axes>"
      ]
     },
     "metadata": {},
     "output_type": "display_data"
    }
   ],
   "source": [
    "# Predicted vs Real values\n",
    "\n",
    "plt.style.use('seaborn')\n",
    "plt.scatter(X_test, y_test, color = 'red', marker = 'o', s = 35, alpha = 0.5,\n",
    "            label = 'Test data')\n",
    "plt.plot(X_train, lm.predict(X_train), color = 'blue', label='Model Plot')\n",
    "plt.title('Predicted Values vs Real values') \n",
    "plt.xlabel('Real values') \n",
    "plt.ylabel('Predicted Values') \n",
    "plt.legend(loc = 'upper left')\n",
    "plt.show();"
   ]
  },
  {
   "cell_type": "markdown",
   "metadata": {},
   "source": [
    "The accuracy of the model is quite low, only 63%.\n",
    "\n",
    "## Multilinear Regression 1\n",
    "\n",
    "Let's try another model, with a few variables that have the highest correlation with the target \n",
    "\n",
    "( > 60% : 'OverallQual', 'GarageCars', 'BsmtQual', 'KitchenQual')"
   ]
  },
  {
   "cell_type": "code",
   "execution_count": 31,
   "metadata": {},
   "outputs": [
    {
     "data": {
      "image/png": "[encoded data removed]",
      "text/plain": [
       "<Figure size 720x720 with 2 Axes>"
      ]
     },
     "metadata": {},
     "output_type": "display_data"
    }
   ],
   "source": [
    "high_corr = data2.corr()\n",
    "high_corr_features = high_corr.index[abs(high_corr[\"SalePrice\"])>0.6]\n",
    "\n",
    "plt.figure(figsize=(10,10))\n",
    "mat = sns.heatmap(df[high_corr_features].corr(), annot=True, cmap=\"YlGnBu\")"
   ]
  },
  {
   "cell_type": "code",
   "execution_count": 32,
   "metadata": {},
   "outputs": [],
   "source": [
    "features = ['OverallQual', 'GarageCars', 'BsmtQual', 'KitchenQual']\n",
    "\n",
    "X = data2[features]\n",
    "y = data2.SalePrice\n",
    "\n",
    "X_train, X_test, y_train, y_test = train_test_split(X, y, test_size = 0.3, random_state = 7)"
   ]
  },
  {
   "cell_type": "code",
   "execution_count": 33,
   "metadata": {},
   "outputs": [
    {
     "data": {
      "text/plain": [
       "LinearRegression()"
      ]
     },
     "execution_count": 33,
     "metadata": {},
     "output_type": "execute_result"
    }
   ],
   "source": [
    "mReg = LinearRegression()\n",
    "mReg.fit(X_train, y_train)"
   ]
  },
  {
   "cell_type": "code",
   "execution_count": 34,
   "metadata": {},
   "outputs": [
    {
     "data": {
      "text/html": [
       "<div>\n",
       "<style scoped>\n",
       "    .dataframe tbody tr th:only-of-type {\n",
       "        vertical-align: middle;\n",
       "    }\n",
       "\n",
       "    .dataframe tbody tr th {\n",
       "        vertical-align: top;\n",
       "    }\n",
       "\n",
       "    .dataframe thead th {\n",
       "        text-align: right;\n",
       "    }\n",
       "</style>\n",
       "<table border=\"1\" class=\"dataframe\">\n",
       "  <thead>\n",
       "    <tr style=\"text-align: right;\">\n",
       "      <th></th>\n",
       "      <th>MAE</th>\n",
       "      <th>MSE</th>\n",
       "      <th>RMSE</th>\n",
       "      <th>R2</th>\n",
       "      <th>CV_R2</th>\n",
       "    </tr>\n",
       "  </thead>\n",
       "  <tbody>\n",
       "    <tr>\n",
       "      <th>Train</th>\n",
       "      <td>0.144936</td>\n",
       "      <td>0.036342</td>\n",
       "      <td>0.190636</td>\n",
       "      <td>0.729895</td>\n",
       "      <td>0.723</td>\n",
       "    </tr>\n",
       "    <tr>\n",
       "      <th>Test</th>\n",
       "      <td>0.144101</td>\n",
       "      <td>0.035502</td>\n",
       "      <td>0.188420</td>\n",
       "      <td>0.709040</td>\n",
       "      <td>NaN</td>\n",
       "    </tr>\n",
       "  </tbody>\n",
       "</table>\n",
       "</div>"
      ],
      "text/plain": [
       "            MAE       MSE      RMSE        R2  CV_R2\n",
       "Train  0.144936  0.036342  0.190636  0.729895  0.723\n",
       "Test   0.144101  0.035502  0.188420  0.709040    NaN"
      ]
     },
     "execution_count": 34,
     "metadata": {},
     "output_type": "execute_result"
    }
   ],
   "source": [
    "mReg_m =  Allmetrics(mReg,X_train, y_train,X_test, y_test)\n",
    "mReg_m"
   ]
  },
  {
   "cell_type": "code",
   "execution_count": 35,
   "metadata": {},
   "outputs": [
    {
     "name": "stdout",
     "output_type": "stream",
     "text": [
      "Intercept of the Linear model 10.460700558862138\n",
      "[0.13593809 0.11837562 0.07150973 0.07654653]\n"
     ]
    }
   ],
   "source": [
    "\n",
    "print('Intercept of the Linear model', mReg.intercept_) \n",
    "print(mReg.coef_)"
   ]
  },
  {
   "cell_type": "code",
   "execution_count": 36,
   "metadata": {},
   "outputs": [
    {
     "name": "stdout",
     "output_type": "stream",
     "text": [
      "The predicted values for your Test test are: [12.77955154 12.28810937 11.95724912 11.83887351 11.83887351 11.96936729\n",
      " 11.82131103 12.37718157 11.68537294 11.89785757 12.35961909 11.82131103\n",
      " 12.10530539 11.82131103 12.24124348 11.9748116  11.83887351 12.91548963\n",
      " 11.79200761 11.85099168 12.10530539 12.24124348 12.02875885 12.00449224\n",
      " 12.35961909 12.10530539 12.03379566 12.40144818 12.24124348 11.68537294\n",
      " 11.56699732 11.89785757 12.03379566 12.49555719 11.75688267 11.70293541\n",
      " 11.99237407 11.96936729 12.24124348 12.24124348 12.10530539 12.03379566\n",
      " 11.95724912 11.91542004 12.4537281  11.70293541 12.09318722 11.82131103\n",
      " 12.77955154 11.83887351 12.56706691 12.3127532  11.82131103 12.24124348\n",
      " 12.77955154 12.24124348 11.70293541 11.91038323 11.95724912 11.68537294\n",
      " 12.24124348 12.10530539 12.03379566 12.05135813 12.37718157 11.56699732\n",
      " 12.66117592 12.24124348 11.95724912 12.49555719 12.35961909 11.70293541\n",
      " 11.83887351 11.44862171 12.10530539 12.56706691 12.16469694 12.10530539\n",
      " 11.77948195 12.40648499 12.24124348 11.78451876 12.16469694 12.24124348\n",
      " 11.89785757 12.10530539 11.89282076 11.56699732 11.77948195 12.09318722\n",
      " 12.10026858 12.50767536 12.02875885 11.82131103 11.70293541 12.24124348\n",
      " 12.16973375 11.70293541 12.10530539 12.24124348 12.02875885 11.70293541\n",
      " 11.70293541 12.42404746 11.82131103 12.66117592 12.24124348 11.70293541\n",
      " 11.70293541 12.49555719 11.82131103 11.89282076 12.10026858 11.77948195\n",
      " 11.95724912 12.10530539 12.24124348 12.16469694 11.91542004 12.4537281\n",
      " 11.77948195 12.49555719 12.49555719 12.24124348 11.56699732 12.10530539\n",
      " 12.03379566 11.83887351 11.95724912 12.35961909 11.56699732 11.77948195\n",
      " 12.02875885 11.89282076 11.70293541 12.24628028 11.83887351 12.16469694\n",
      " 12.16469694 11.98692977 11.70293541 11.82131103 11.70293541 11.83887351\n",
      " 11.89282076 12.24124348 11.68537294 11.89785757 11.61386322 12.10530539\n",
      " 12.56706691 11.83887351 12.05135813 12.10530539 11.83887351 11.95724912\n",
      " 12.10530539 11.9748116  12.56706691 11.83887351 11.77948195 12.44869129\n",
      " 12.24124348 11.66110633 11.82131103 12.24124348 11.95724912 11.56699732\n",
      " 12.16973375 11.77444514 11.91038323 12.02875885 11.44862171 11.82131103\n",
      " 12.03379566 11.82131103 11.68537294 11.89785757 11.83887351 12.16469694\n",
      " 12.52523783 12.24124348 11.65606952 12.02875885 12.37718157 11.65606952\n",
      " 12.09318722 12.03379566 12.77955154 12.16469694 11.83887351 12.37718157\n",
      " 12.02875885 11.82131103 12.49555719 12.703005   12.49555719 12.10530539\n",
      " 11.70293541 12.43112882 11.77948195 11.5845598  11.89282076 11.91038323\n",
      " 11.63850705 11.8857394  12.24124348 11.9744041  12.49555719 12.10530539\n",
      " 12.10530539 11.83887351 12.24124348 12.24124348 11.70293541 12.49555719\n",
      " 12.24124348 12.37718157 11.95724912 11.82131103 12.30567184 12.02875885\n",
      " 12.24124348 11.56699732 11.47288832 11.7447645  12.12286786 11.70293541\n",
      " 12.10530539 12.24124348 12.03379566 12.24124348 12.37718157 11.89282076\n",
      " 12.10530539 11.77948195 11.93968665 11.5845598  12.56706691 11.70293541\n",
      " 11.77948195 12.49555719 11.70293541 12.10530539 11.56699732 11.70293541\n",
      " 12.12286786 11.93968665 11.85602848 11.5845598  11.95724912 12.02875885\n",
      " 12.10530539 12.02875885 12.02875885 11.89282076 12.37718157 12.64361345\n",
      " 12.24124348 11.64354386 12.24124348 11.83887351 11.72049789 12.24124348\n",
      " 12.16469694 11.82131103 11.41894106 11.95724912 12.10530539 11.56699732\n",
      " 12.10530539 11.70293541 12.24124348 11.83887351 12.16973375 12.24124348\n",
      " 12.3127532  12.24124348 11.82131103 11.70293541 11.70293541 11.9748116\n",
      " 12.10530539 12.37718157 12.16469694 11.70293541 12.02875885 11.56699732\n",
      " 12.10530539 12.35961909 11.78451876 12.24124348 12.02875885 12.3127532\n",
      " 11.9748116  11.70293541 12.24124348 11.79704442 12.09318722 12.24124348\n",
      " 12.10530539 11.54943485 11.95724912 11.70293541 11.70293541 11.44862171\n",
      " 11.95724912 11.82131103 11.95724912 12.09318722 11.70293541 12.37718157\n",
      " 12.10530539 12.03379566 11.5845598  11.8857394  11.8857394  12.10530539\n",
      " 12.24124348 12.16973375 11.70293541 11.82131103 12.24124348 11.82131103\n",
      " 11.82131103 11.70293541 11.82131103 11.70293541 11.82131103 11.82131103\n",
      " 11.70293541 11.82131103 12.37718157 11.89282076 12.63149528 11.89785757\n",
      " 12.37718157 12.77955154 11.82131103 11.95724912 11.95724912 12.16469694\n",
      " 12.03379566 12.12790466 11.70293541 12.24124348 12.16469694 11.95724912\n",
      " 11.70293541 11.68537294 12.49555719 11.72049789 11.66110633 11.95724912\n",
      " 11.72049789 11.77948195 11.70293541 12.49555719 11.44862171 12.91548963\n",
      " 11.96936729 12.04591383 11.89282076 12.02875885 11.83887351 11.82131103\n",
      " 11.56699732 11.70293541 11.44862171 12.24124348 12.24124348 12.3127532\n",
      " 12.49555719 12.16973375 11.82131103 11.89785757 12.24124348 12.49555719\n",
      " 12.24124348 11.52013143 11.82131103 11.91038323 12.03379566 11.82131103\n",
      " 11.89282076 12.37718157 12.24124348 11.95724912 11.82131103 11.95724912\n",
      " 11.82131103 12.37718157 12.24124348 11.55487915 12.02875885 12.02875885\n",
      " 12.57754802 11.82131103 12.37718157 12.56706691 12.11034219 11.83887351\n",
      " 12.24124348 12.10530539 11.70293541 12.35961909 11.83887351 11.65606952\n",
      " 11.82131103 12.18729622 11.95724912 12.77955154 12.24124348 11.83887351\n",
      " 12.37718157 11.82131103 12.24124348 12.77955154 12.24124348 11.82131103\n",
      " 11.70293541 12.4537281  12.35961909 12.02875885 12.10530539 12.24124348\n",
      " 12.37718157 12.02875885 11.8334292 ]\n"
     ]
    }
   ],
   "source": [
    "y_pred = mReg.predict(X_test)\n",
    "print ('The predicted values for your Test test are:', y_pred)"
   ]
  },
  {
   "cell_type": "code",
   "execution_count": 37,
   "metadata": {},
   "outputs": [
    {
     "data": {
      "image/png": "[encoded data removed]",
      "text/plain": [
       "<Figure size 1080x576 with 1 Axes>"
      ]
     },
     "metadata": {},
     "output_type": "display_data"
    }
   ],
   "source": [
    "# predicted vs real: Visual way\n",
    "plt.figure(figsize=(15,8)) \n",
    "plt.scatter(y_test, y_pred)\n",
    "plt.xlabel('Y Test') \n",
    "plt.ylabel('Predicted Y') \n",
    "plt.show();"
   ]
  },
  {
   "cell_type": "markdown",
   "metadata": {},
   "source": [
    "The accuracy of the model increased to 72%.\n",
    "\n",
    "## Multilinear Regression 2\n",
    "\n",
    "Adding all the variables"
   ]
  },
  {
   "cell_type": "code",
   "execution_count": 38,
   "metadata": {},
   "outputs": [],
   "source": [
    "X = data2.drop('SalePrice', axis=1)\n",
    "y = data2.SalePrice\n",
    "\n",
    "X_train, X_test, y_train, y_test =train_test_split(X,y,test_size=0.33,random_state=42)"
   ]
  },
  {
   "cell_type": "code",
   "execution_count": 39,
   "metadata": {},
   "outputs": [
    {
     "data": {
      "text/plain": [
       "LinearRegression()"
      ]
     },
     "execution_count": 39,
     "metadata": {},
     "output_type": "execute_result"
    }
   ],
   "source": [
    "mReg2 = LinearRegression()\n",
    "mReg2.fit(X_train, y_train)"
   ]
  },
  {
   "cell_type": "code",
   "execution_count": 40,
   "metadata": {},
   "outputs": [
    {
     "data": {
      "text/html": [
       "<div>\n",
       "<style scoped>\n",
       "    .dataframe tbody tr th:only-of-type {\n",
       "        vertical-align: middle;\n",
       "    }\n",
       "\n",
       "    .dataframe tbody tr th {\n",
       "        vertical-align: top;\n",
       "    }\n",
       "\n",
       "    .dataframe thead th {\n",
       "        text-align: right;\n",
       "    }\n",
       "</style>\n",
       "<table border=\"1\" class=\"dataframe\">\n",
       "  <thead>\n",
       "    <tr style=\"text-align: right;\">\n",
       "      <th></th>\n",
       "      <th>MAE</th>\n",
       "      <th>MSE</th>\n",
       "      <th>RMSE</th>\n",
       "      <th>R2</th>\n",
       "      <th>CV_R2</th>\n",
       "    </tr>\n",
       "  </thead>\n",
       "  <tbody>\n",
       "    <tr>\n",
       "      <th>Train</th>\n",
       "      <td>0.121448</td>\n",
       "      <td>0.025867</td>\n",
       "      <td>0.160832</td>\n",
       "      <td>0.808986</td>\n",
       "      <td>0.799</td>\n",
       "    </tr>\n",
       "    <tr>\n",
       "      <th>Test</th>\n",
       "      <td>0.125741</td>\n",
       "      <td>0.026931</td>\n",
       "      <td>0.164106</td>\n",
       "      <td>0.778436</td>\n",
       "      <td>NaN</td>\n",
       "    </tr>\n",
       "  </tbody>\n",
       "</table>\n",
       "</div>"
      ],
      "text/plain": [
       "            MAE       MSE      RMSE        R2  CV_R2\n",
       "Train  0.121448  0.025867  0.160832  0.808986  0.799\n",
       "Test   0.125741  0.026931  0.164106  0.778436    NaN"
      ]
     },
     "execution_count": 40,
     "metadata": {},
     "output_type": "execute_result"
    }
   ],
   "source": [
    "mReg2_m =  Allmetrics(mReg2,X_train, y_train,X_test, y_test)\n",
    "mReg2_m"
   ]
  },
  {
   "cell_type": "code",
   "execution_count": 41,
   "metadata": {},
   "outputs": [
    {
     "name": "stdout",
     "output_type": "stream",
     "text": [
      "Intercept of the Linear model 4.758020250779749\n",
      "[0.08863836 0.04080703 0.08640711 0.00112807 0.0017966  0.0419423\n",
      " 0.09514901 0.03163113 0.01901244 0.05620686]\n"
     ]
    }
   ],
   "source": [
    "print('Intercept of the Linear model', mReg2.intercept_) \n",
    "print(mReg2.coef_)"
   ]
  },
  {
   "cell_type": "markdown",
   "metadata": {},
   "source": [
    "The metrics of the 3rd model are improving, the accuracy is around 80%\n",
    "\n",
    "# Model building: using data scaling\n",
    "\n",
    "## Ridge:"
   ]
  },
  {
   "cell_type": "code",
   "execution_count": 42,
   "metadata": {},
   "outputs": [
    {
     "data": {
      "text/plain": [
       "RidgeCV(alphas=array([ 0.1,  0.5,  1. , 10. ]))"
      ]
     },
     "execution_count": 42,
     "metadata": {},
     "output_type": "execute_result"
    }
   ],
   "source": [
    "# Instantiating the model with alpha = 0.1, 0.5, 1.0, 10.0\n",
    "regr_cv = RidgeCV(alphas=[0.1,0.5, 1.0, 10.0]) \n",
    "regr_cv"
   ]
  },
  {
   "cell_type": "code",
   "execution_count": 43,
   "metadata": {},
   "outputs": [
    {
     "data": {
      "text/plain": [
       "RidgeCV(alphas=array([ 0.1,  0.5,  1. , 10. ]))"
      ]
     },
     "execution_count": 43,
     "metadata": {},
     "output_type": "execute_result"
    }
   ],
   "source": [
    "# Fit the linear regression\n",
    "model_cv = regr_cv.fit(X_train, y_train) \n",
    "model_cv"
   ]
  },
  {
   "cell_type": "code",
   "execution_count": 44,
   "metadata": {},
   "outputs": [
    {
     "data": {
      "text/html": [
       "<div>\n",
       "<style scoped>\n",
       "    .dataframe tbody tr th:only-of-type {\n",
       "        vertical-align: middle;\n",
       "    }\n",
       "\n",
       "    .dataframe tbody tr th {\n",
       "        vertical-align: top;\n",
       "    }\n",
       "\n",
       "    .dataframe thead th {\n",
       "        text-align: right;\n",
       "    }\n",
       "</style>\n",
       "<table border=\"1\" class=\"dataframe\">\n",
       "  <thead>\n",
       "    <tr style=\"text-align: right;\">\n",
       "      <th></th>\n",
       "      <th>MAE</th>\n",
       "      <th>MSE</th>\n",
       "      <th>RMSE</th>\n",
       "      <th>R2</th>\n",
       "    </tr>\n",
       "  </thead>\n",
       "  <tbody>\n",
       "    <tr>\n",
       "      <th>Test</th>\n",
       "      <td>0.125721</td>\n",
       "      <td>0.026953</td>\n",
       "      <td>0.164173</td>\n",
       "      <td>0.778257</td>\n",
       "    </tr>\n",
       "  </tbody>\n",
       "</table>\n",
       "</div>"
      ],
      "text/plain": [
       "           MAE       MSE      RMSE        R2\n",
       "Test  0.125721  0.026953  0.164173  0.778257"
      ]
     },
     "execution_count": 44,
     "metadata": {},
     "output_type": "execute_result"
    }
   ],
   "source": [
    "metrics_test(X_test,y_test,model_cv)"
   ]
  },
  {
   "cell_type": "code",
   "execution_count": 45,
   "metadata": {},
   "outputs": [
    {
     "data": {
      "text/plain": [
       "10.0"
      ]
     },
     "execution_count": 45,
     "metadata": {},
     "output_type": "execute_result"
    }
   ],
   "source": [
    "#View Best Model’s Alpha Value\n",
    "model_cv.alpha_"
   ]
  },
  {
   "cell_type": "code",
   "execution_count": 46,
   "metadata": {},
   "outputs": [
    {
     "data": {
      "text/plain": [
       "(956, 10)"
      ]
     },
     "execution_count": 46,
     "metadata": {},
     "output_type": "execute_result"
    }
   ],
   "source": [
    "X_train.shape"
   ]
  },
  {
   "cell_type": "code",
   "execution_count": 47,
   "metadata": {},
   "outputs": [
    {
     "data": {
      "text/plain": [
       "Ridge(alpha=10.0)"
      ]
     },
     "execution_count": 47,
     "metadata": {},
     "output_type": "execute_result"
    }
   ],
   "source": [
    "rr_ = Ridge(alpha=model_cv.alpha_)\n",
    "rr_.fit(X_train, y_train)"
   ]
  },
  {
   "cell_type": "code",
   "execution_count": 48,
   "metadata": {},
   "outputs": [
    {
     "data": {
      "text/html": [
       "<div>\n",
       "<style scoped>\n",
       "    .dataframe tbody tr th:only-of-type {\n",
       "        vertical-align: middle;\n",
       "    }\n",
       "\n",
       "    .dataframe tbody tr th {\n",
       "        vertical-align: top;\n",
       "    }\n",
       "\n",
       "    .dataframe thead th {\n",
       "        text-align: right;\n",
       "    }\n",
       "</style>\n",
       "<table border=\"1\" class=\"dataframe\">\n",
       "  <thead>\n",
       "    <tr style=\"text-align: right;\">\n",
       "      <th></th>\n",
       "      <th>MAE</th>\n",
       "      <th>MSE</th>\n",
       "      <th>RMSE</th>\n",
       "      <th>R2</th>\n",
       "      <th>CV_R2</th>\n",
       "    </tr>\n",
       "  </thead>\n",
       "  <tbody>\n",
       "    <tr>\n",
       "      <th>Train</th>\n",
       "      <td>0.121359</td>\n",
       "      <td>0.025872</td>\n",
       "      <td>0.160846</td>\n",
       "      <td>0.808951</td>\n",
       "      <td>0.799</td>\n",
       "    </tr>\n",
       "    <tr>\n",
       "      <th>Test</th>\n",
       "      <td>0.125721</td>\n",
       "      <td>0.026953</td>\n",
       "      <td>0.164173</td>\n",
       "      <td>0.778257</td>\n",
       "      <td>NaN</td>\n",
       "    </tr>\n",
       "  </tbody>\n",
       "</table>\n",
       "</div>"
      ],
      "text/plain": [
       "            MAE       MSE      RMSE        R2  CV_R2\n",
       "Train  0.121359  0.025872  0.160846  0.808951  0.799\n",
       "Test   0.125721  0.026953  0.164173  0.778257    NaN"
      ]
     },
     "execution_count": 48,
     "metadata": {},
     "output_type": "execute_result"
    }
   ],
   "source": [
    "rr_metrics = Allmetrics(rr_, X_train, y_train, X_test, y_test)\n",
    "rr_metrics"
   ]
  },
  {
   "cell_type": "code",
   "execution_count": 49,
   "metadata": {},
   "outputs": [
    {
     "data": {
      "text/html": [
       "<div>\n",
       "<style scoped>\n",
       "    .dataframe tbody tr th:only-of-type {\n",
       "        vertical-align: middle;\n",
       "    }\n",
       "\n",
       "    .dataframe tbody tr th {\n",
       "        vertical-align: top;\n",
       "    }\n",
       "\n",
       "    .dataframe thead th {\n",
       "        text-align: right;\n",
       "    }\n",
       "</style>\n",
       "<table border=\"1\" class=\"dataframe\">\n",
       "  <thead>\n",
       "    <tr style=\"text-align: right;\">\n",
       "      <th></th>\n",
       "      <th>SalePrice</th>\n",
       "      <th>Predicted</th>\n",
       "    </tr>\n",
       "  </thead>\n",
       "  <tbody>\n",
       "    <tr>\n",
       "      <th>0</th>\n",
       "      <td>11.344519</td>\n",
       "      <td>11.681598</td>\n",
       "    </tr>\n",
       "    <tr>\n",
       "      <th>1</th>\n",
       "      <td>11.626263</td>\n",
       "      <td>11.972590</td>\n",
       "    </tr>\n",
       "    <tr>\n",
       "      <th>2</th>\n",
       "      <td>12.138869</td>\n",
       "      <td>12.071699</td>\n",
       "    </tr>\n",
       "    <tr>\n",
       "      <th>3</th>\n",
       "      <td>12.086732</td>\n",
       "      <td>12.036514</td>\n",
       "    </tr>\n",
       "    <tr>\n",
       "      <th>4</th>\n",
       "      <td>12.644331</td>\n",
       "      <td>12.550933</td>\n",
       "    </tr>\n",
       "    <tr>\n",
       "      <th>...</th>\n",
       "      <td>...</td>\n",
       "      <td>...</td>\n",
       "    </tr>\n",
       "    <tr>\n",
       "      <th>467</th>\n",
       "      <td>11.941951</td>\n",
       "      <td>11.800155</td>\n",
       "    </tr>\n",
       "    <tr>\n",
       "      <th>468</th>\n",
       "      <td>11.956559</td>\n",
       "      <td>12.334071</td>\n",
       "    </tr>\n",
       "    <tr>\n",
       "      <th>469</th>\n",
       "      <td>11.561725</td>\n",
       "      <td>11.721510</td>\n",
       "    </tr>\n",
       "    <tr>\n",
       "      <th>470</th>\n",
       "      <td>12.556733</td>\n",
       "      <td>12.411433</td>\n",
       "    </tr>\n",
       "    <tr>\n",
       "      <th>471</th>\n",
       "      <td>11.877576</td>\n",
       "      <td>11.864394</td>\n",
       "    </tr>\n",
       "  </tbody>\n",
       "</table>\n",
       "<p>472 rows × 2 columns</p>\n",
       "</div>"
      ],
      "text/plain": [
       "     SalePrice  Predicted\n",
       "0    11.344519  11.681598\n",
       "1    11.626263  11.972590\n",
       "2    12.138869  12.071699\n",
       "3    12.086732  12.036514\n",
       "4    12.644331  12.550933\n",
       "..         ...        ...\n",
       "467  11.941951  11.800155\n",
       "468  11.956559  12.334071\n",
       "469  11.561725  11.721510\n",
       "470  12.556733  12.411433\n",
       "471  11.877576  11.864394\n",
       "\n",
       "[472 rows x 2 columns]"
      ]
     },
     "execution_count": 49,
     "metadata": {},
     "output_type": "execute_result"
    }
   ],
   "source": [
    "#Creating a dataframe containing the real and predicted values:\n",
    "\n",
    "y_predRR = rr_.predict(X_test)\n",
    "y_pred_a = pd.DataFrame(y_predRR).reset_index(drop=True) \n",
    "y_test_a = y_test.reset_index(drop=True, inplace=False)\n",
    "pred_act_df = pd.concat([y_test_a,y_pred_a], axis=1)\n",
    "pred_act_df.rename({'price': 'Real', 0: 'Predicted'}, axis=1, inplace=True) \n",
    "pred_act_df"
   ]
  },
  {
   "cell_type": "markdown",
   "metadata": {},
   "source": [
    "The accuracy of the model with Ridge is around 80%"
   ]
  },
  {
   "cell_type": "markdown",
   "metadata": {},
   "source": [
    "## RandomForestRegressor:"
   ]
  },
  {
   "cell_type": "code",
   "execution_count": 50,
   "metadata": {},
   "outputs": [],
   "source": [
    "from sklearn.ensemble import RandomForestRegressor "
   ]
  },
  {
   "cell_type": "code",
   "execution_count": 51,
   "metadata": {},
   "outputs": [
    {
     "data": {
      "text/plain": [
       "RandomForestRegressor()"
      ]
     },
     "execution_count": 51,
     "metadata": {},
     "output_type": "execute_result"
    }
   ],
   "source": [
    "clf_rf = RandomForestRegressor() \n",
    "clf_rf.fit(X_train , y_train)"
   ]
  },
  {
   "cell_type": "code",
   "execution_count": 52,
   "metadata": {},
   "outputs": [
    {
     "data": {
      "text/html": [
       "<div>\n",
       "<style scoped>\n",
       "    .dataframe tbody tr th:only-of-type {\n",
       "        vertical-align: middle;\n",
       "    }\n",
       "\n",
       "    .dataframe tbody tr th {\n",
       "        vertical-align: top;\n",
       "    }\n",
       "\n",
       "    .dataframe thead th {\n",
       "        text-align: right;\n",
       "    }\n",
       "</style>\n",
       "<table border=\"1\" class=\"dataframe\">\n",
       "  <thead>\n",
       "    <tr style=\"text-align: right;\">\n",
       "      <th></th>\n",
       "      <th>MAE</th>\n",
       "      <th>MSE</th>\n",
       "      <th>RMSE</th>\n",
       "      <th>R2</th>\n",
       "      <th>CV_R2</th>\n",
       "    </tr>\n",
       "  </thead>\n",
       "  <tbody>\n",
       "    <tr>\n",
       "      <th>Train</th>\n",
       "      <td>0.048549</td>\n",
       "      <td>0.004170</td>\n",
       "      <td>0.064575</td>\n",
       "      <td>0.969207</td>\n",
       "      <td>0.793</td>\n",
       "    </tr>\n",
       "    <tr>\n",
       "      <th>Test</th>\n",
       "      <td>0.127430</td>\n",
       "      <td>0.029062</td>\n",
       "      <td>0.170476</td>\n",
       "      <td>0.760902</td>\n",
       "      <td>NaN</td>\n",
       "    </tr>\n",
       "  </tbody>\n",
       "</table>\n",
       "</div>"
      ],
      "text/plain": [
       "            MAE       MSE      RMSE        R2  CV_R2\n",
       "Train  0.048549  0.004170  0.064575  0.969207  0.793\n",
       "Test   0.127430  0.029062  0.170476  0.760902    NaN"
      ]
     },
     "execution_count": 52,
     "metadata": {},
     "output_type": "execute_result"
    }
   ],
   "source": [
    "Allmetrics(clf_rf, X_train, y_train, X_test, y_test)"
   ]
  },
  {
   "cell_type": "code",
   "execution_count": 53,
   "metadata": {},
   "outputs": [],
   "source": [
    "no_of_test=[100] \n",
    "params_dict={'n_estimators':no_of_test,'n_jobs':[-1],\n",
    "             'max_features':[\"auto\",'sqrt','log2']}"
   ]
  },
  {
   "cell_type": "code",
   "execution_count": 54,
   "metadata": {},
   "outputs": [
    {
     "data": {
      "text/plain": [
       "GridSearchCV(estimator=RandomForestRegressor(),\n",
       "             param_grid={'max_features': ['auto', 'sqrt', 'log2'],\n",
       "                         'n_estimators': [100], 'n_jobs': [-1]},\n",
       "             scoring='r2')"
      ]
     },
     "execution_count": 54,
     "metadata": {},
     "output_type": "execute_result"
    }
   ],
   "source": [
    "clf_rf = GridSearchCV(estimator=RandomForestRegressor(), \n",
    "                      param_grid=params_dict,scoring='r2')\n",
    "\n",
    "clf_rf.fit(X_train,y_train)"
   ]
  },
  {
   "cell_type": "code",
   "execution_count": 55,
   "metadata": {},
   "outputs": [
    {
     "data": {
      "text/html": [
       "<div>\n",
       "<style scoped>\n",
       "    .dataframe tbody tr th:only-of-type {\n",
       "        vertical-align: middle;\n",
       "    }\n",
       "\n",
       "    .dataframe tbody tr th {\n",
       "        vertical-align: top;\n",
       "    }\n",
       "\n",
       "    .dataframe thead th {\n",
       "        text-align: right;\n",
       "    }\n",
       "</style>\n",
       "<table border=\"1\" class=\"dataframe\">\n",
       "  <thead>\n",
       "    <tr style=\"text-align: right;\">\n",
       "      <th></th>\n",
       "      <th>MAE</th>\n",
       "      <th>MSE</th>\n",
       "      <th>RMSE</th>\n",
       "      <th>R2</th>\n",
       "      <th>CV_R2</th>\n",
       "    </tr>\n",
       "  </thead>\n",
       "  <tbody>\n",
       "    <tr>\n",
       "      <th>Train</th>\n",
       "      <td>0.047725</td>\n",
       "      <td>0.004027</td>\n",
       "      <td>0.063461</td>\n",
       "      <td>0.970260</td>\n",
       "      <td>0.801</td>\n",
       "    </tr>\n",
       "    <tr>\n",
       "      <th>Test</th>\n",
       "      <td>0.125335</td>\n",
       "      <td>0.027862</td>\n",
       "      <td>0.166919</td>\n",
       "      <td>0.770776</td>\n",
       "      <td>NaN</td>\n",
       "    </tr>\n",
       "  </tbody>\n",
       "</table>\n",
       "</div>"
      ],
      "text/plain": [
       "            MAE       MSE      RMSE        R2  CV_R2\n",
       "Train  0.047725  0.004027  0.063461  0.970260  0.801\n",
       "Test   0.125335  0.027862  0.166919  0.770776    NaN"
      ]
     },
     "execution_count": 55,
     "metadata": {},
     "output_type": "execute_result"
    }
   ],
   "source": [
    "rf_metrics = Allmetrics(clf_rf, X_train, y_train, X_test, y_test)\n",
    "rf_metrics"
   ]
  },
  {
   "cell_type": "markdown",
   "metadata": {},
   "source": [
    "The model seems to be overfitted, the results on the Train set are great, however, they are significantly lower when checking out Test set."
   ]
  },
  {
   "cell_type": "markdown",
   "metadata": {},
   "source": [
    "## Linear Kernel SVM"
   ]
  },
  {
   "cell_type": "code",
   "execution_count": 56,
   "metadata": {},
   "outputs": [
    {
     "data": {
      "text/plain": [
       "SVR(kernel='linear')"
      ]
     },
     "execution_count": 56,
     "metadata": {},
     "output_type": "execute_result"
    }
   ],
   "source": [
    "from sklearn.svm import SVR \n",
    "model = SVR(kernel='linear') \n",
    "model.fit(X_train, y_train)"
   ]
  },
  {
   "cell_type": "code",
   "execution_count": 57,
   "metadata": {},
   "outputs": [
    {
     "data": {
      "text/html": [
       "<div>\n",
       "<style scoped>\n",
       "    .dataframe tbody tr th:only-of-type {\n",
       "        vertical-align: middle;\n",
       "    }\n",
       "\n",
       "    .dataframe tbody tr th {\n",
       "        vertical-align: top;\n",
       "    }\n",
       "\n",
       "    .dataframe thead th {\n",
       "        text-align: right;\n",
       "    }\n",
       "</style>\n",
       "<table border=\"1\" class=\"dataframe\">\n",
       "  <thead>\n",
       "    <tr style=\"text-align: right;\">\n",
       "      <th></th>\n",
       "      <th>MAE</th>\n",
       "      <th>MSE</th>\n",
       "      <th>RMSE</th>\n",
       "      <th>R2</th>\n",
       "      <th>CV_R2</th>\n",
       "    </tr>\n",
       "  </thead>\n",
       "  <tbody>\n",
       "    <tr>\n",
       "      <th>Train</th>\n",
       "      <td>0.121576</td>\n",
       "      <td>0.025935</td>\n",
       "      <td>0.161045</td>\n",
       "      <td>0.808480</td>\n",
       "      <td>0.799</td>\n",
       "    </tr>\n",
       "    <tr>\n",
       "      <th>Test</th>\n",
       "      <td>0.125067</td>\n",
       "      <td>0.026750</td>\n",
       "      <td>0.163554</td>\n",
       "      <td>0.779926</td>\n",
       "      <td>NaN</td>\n",
       "    </tr>\n",
       "  </tbody>\n",
       "</table>\n",
       "</div>"
      ],
      "text/plain": [
       "            MAE       MSE      RMSE        R2  CV_R2\n",
       "Train  0.121576  0.025935  0.161045  0.808480  0.799\n",
       "Test   0.125067  0.026750  0.163554  0.779926    NaN"
      ]
     },
     "execution_count": 57,
     "metadata": {},
     "output_type": "execute_result"
    }
   ],
   "source": [
    "model_m = Allmetrics(model,X_train, y_train,X_test, y_test)\n",
    "model_m"
   ]
  },
  {
   "cell_type": "markdown",
   "metadata": {},
   "source": [
    "## Polynomial Kernel SVM"
   ]
  },
  {
   "cell_type": "code",
   "execution_count": 58,
   "metadata": {},
   "outputs": [
    {
     "data": {
      "text/plain": [
       "SVR(degree=2, gamma=1e-05, kernel='poly')"
      ]
     },
     "execution_count": 58,
     "metadata": {},
     "output_type": "execute_result"
    }
   ],
   "source": [
    "model2 = SVR(kernel='poly', degree=2, gamma=0.00001) \n",
    "model2.fit(X_train, y_train)"
   ]
  },
  {
   "cell_type": "code",
   "execution_count": 59,
   "metadata": {},
   "outputs": [
    {
     "data": {
      "text/html": [
       "<div>\n",
       "<style scoped>\n",
       "    .dataframe tbody tr th:only-of-type {\n",
       "        vertical-align: middle;\n",
       "    }\n",
       "\n",
       "    .dataframe tbody tr th {\n",
       "        vertical-align: top;\n",
       "    }\n",
       "\n",
       "    .dataframe thead th {\n",
       "        text-align: right;\n",
       "    }\n",
       "</style>\n",
       "<table border=\"1\" class=\"dataframe\">\n",
       "  <thead>\n",
       "    <tr style=\"text-align: right;\">\n",
       "      <th></th>\n",
       "      <th>MAE</th>\n",
       "      <th>MSE</th>\n",
       "      <th>RMSE</th>\n",
       "      <th>R2</th>\n",
       "      <th>CV_R2</th>\n",
       "    </tr>\n",
       "  </thead>\n",
       "  <tbody>\n",
       "    <tr>\n",
       "      <th>Train</th>\n",
       "      <td>0.121889</td>\n",
       "      <td>0.026655</td>\n",
       "      <td>0.163264</td>\n",
       "      <td>0.803166</td>\n",
       "      <td>0.793</td>\n",
       "    </tr>\n",
       "    <tr>\n",
       "      <th>Test</th>\n",
       "      <td>0.126739</td>\n",
       "      <td>0.027819</td>\n",
       "      <td>0.166791</td>\n",
       "      <td>0.771129</td>\n",
       "      <td>NaN</td>\n",
       "    </tr>\n",
       "  </tbody>\n",
       "</table>\n",
       "</div>"
      ],
      "text/plain": [
       "            MAE       MSE      RMSE        R2  CV_R2\n",
       "Train  0.121889  0.026655  0.163264  0.803166  0.793\n",
       "Test   0.126739  0.027819  0.166791  0.771129    NaN"
      ]
     },
     "execution_count": 59,
     "metadata": {},
     "output_type": "execute_result"
    }
   ],
   "source": [
    "model2_m = Allmetrics(model2,X_train, y_train,X_test, y_test)\n",
    "model2_m"
   ]
  },
  {
   "cell_type": "markdown",
   "metadata": {},
   "source": [
    "## Radial Kernel SVM"
   ]
  },
  {
   "cell_type": "code",
   "execution_count": 60,
   "metadata": {},
   "outputs": [
    {
     "data": {
      "text/plain": [
       "SVR(gamma=0.001)"
      ]
     },
     "execution_count": 60,
     "metadata": {},
     "output_type": "execute_result"
    }
   ],
   "source": [
    "model3 = SVR(kernel='rbf', gamma=0.001)\n",
    "model3.fit(X_train, y_train)"
   ]
  },
  {
   "cell_type": "code",
   "execution_count": 61,
   "metadata": {},
   "outputs": [
    {
     "data": {
      "text/html": [
       "<div>\n",
       "<style scoped>\n",
       "    .dataframe tbody tr th:only-of-type {\n",
       "        vertical-align: middle;\n",
       "    }\n",
       "\n",
       "    .dataframe tbody tr th {\n",
       "        vertical-align: top;\n",
       "    }\n",
       "\n",
       "    .dataframe thead th {\n",
       "        text-align: right;\n",
       "    }\n",
       "</style>\n",
       "<table border=\"1\" class=\"dataframe\">\n",
       "  <thead>\n",
       "    <tr style=\"text-align: right;\">\n",
       "      <th></th>\n",
       "      <th>MAE</th>\n",
       "      <th>MSE</th>\n",
       "      <th>RMSE</th>\n",
       "      <th>R2</th>\n",
       "      <th>CV_R2</th>\n",
       "    </tr>\n",
       "  </thead>\n",
       "  <tbody>\n",
       "    <tr>\n",
       "      <th>Train</th>\n",
       "      <td>0.118820</td>\n",
       "      <td>0.025649</td>\n",
       "      <td>0.160153</td>\n",
       "      <td>0.810594</td>\n",
       "      <td>0.776</td>\n",
       "    </tr>\n",
       "    <tr>\n",
       "      <th>Test</th>\n",
       "      <td>0.137433</td>\n",
       "      <td>0.034009</td>\n",
       "      <td>0.184416</td>\n",
       "      <td>0.720203</td>\n",
       "      <td>NaN</td>\n",
       "    </tr>\n",
       "  </tbody>\n",
       "</table>\n",
       "</div>"
      ],
      "text/plain": [
       "            MAE       MSE      RMSE        R2  CV_R2\n",
       "Train  0.118820  0.025649  0.160153  0.810594  0.776\n",
       "Test   0.137433  0.034009  0.184416  0.720203    NaN"
      ]
     },
     "execution_count": 61,
     "metadata": {},
     "output_type": "execute_result"
    }
   ],
   "source": [
    "model3_m = Allmetrics(model3,X_train, y_train,X_test, y_test) \n",
    "model3_m"
   ]
  },
  {
   "cell_type": "markdown",
   "metadata": {},
   "source": [
    "## MinMaxScaler:"
   ]
  },
  {
   "cell_type": "code",
   "execution_count": 62,
   "metadata": {},
   "outputs": [],
   "source": [
    "from sklearn.preprocessing import MinMaxScaler \n",
    "mms = MinMaxScaler()\n",
    "X_mms = mms.fit_transform(X)\n",
    "X_train, X_test, y_train, y_test = train_test_split(X_mms, y, test_size=0.3,random_state=42)"
   ]
  },
  {
   "cell_type": "code",
   "execution_count": 63,
   "metadata": {},
   "outputs": [
    {
     "name": "stdout",
     "output_type": "stream",
     "text": [
      "Linear Kernel SVM: \n",
      "            MAE       MSE      RMSE        R2  CV_R2\n",
      "Train  0.121387  0.025905  0.160951  0.805346  0.797\n",
      "Test   0.124705  0.026955  0.164181  0.785274    NaN\n",
      "\n",
      "Polynomial Kernel SVM:\n",
      "            MAE       MSE      RMSE        R2  CV_R2\n",
      "Train  0.124587  0.028784  0.169657  0.783717  0.773\n",
      "Test   0.134510  0.032167  0.179350  0.743762    NaN\n",
      "\n",
      "Radial Kernel SVM:\n",
      "            MAE       MSE      RMSE        R2  CV_R2\n",
      "Train  0.105969  0.018931  0.137590  0.857751    0.8\n",
      "Test   0.121626  0.025824  0.160697  0.794290    NaN\n",
      "\n"
     ]
    }
   ],
   "source": [
    "print(\"Linear Kernel SVM: \") \n",
    "model = SVR(kernel='linear')\n",
    "model.fit(X_train, y_train)\n",
    "svm_linear = Allmetrics(model,X_train, y_train,X_test, y_test)\n",
    "print(svm_linear)\n",
    "print()\n",
    "print(\"Polynomial Kernel SVM:\")\n",
    "model = SVR(kernel='poly', degree=2, gamma='auto') \n",
    "model.fit(X_train, y_train)\n",
    "svm_poly = Allmetrics(model,X_train, y_train,X_test, y_test)\n",
    "print(svm_poly)\n",
    "print()\n",
    "print(\"Radial Kernel SVM:\")\n",
    "model = SVR(kernel='rbf', gamma=1) \n",
    "model.fit(X_train, y_train)\n",
    "svm_rdf = Allmetrics(model,X_train, y_train,X_test, y_test) \n",
    "print(svm_rdf)\n",
    "print()"
   ]
  },
  {
   "cell_type": "markdown",
   "metadata": {},
   "source": [
    "## Standard Scaler:"
   ]
  },
  {
   "cell_type": "code",
   "execution_count": 64,
   "metadata": {},
   "outputs": [],
   "source": [
    "from sklearn.preprocessing import StandardScaler \n",
    "sc = StandardScaler()\n",
    "X_std = sc.fit_transform(X)\n",
    "X_train, X_test, y_train, y_test = train_test_split(X_std, y, test_size=0.3, random_state=42)"
   ]
  },
  {
   "cell_type": "code",
   "execution_count": 65,
   "metadata": {},
   "outputs": [
    {
     "name": "stdout",
     "output_type": "stream",
     "text": [
      "Linear Kernel SVM: \n",
      "            MAE       MSE      RMSE        R2  CV_R2\n",
      "Train  0.121422  0.025915  0.160980  0.805274  0.797\n",
      "Test   0.124632  0.026931  0.164108  0.785465    NaN\n",
      "\n",
      "Polynomial Kernel SVM:\n",
      "            MAE       MSE      RMSE        R2  CV_R2\n",
      "Train  0.210654  0.079027  0.281118  0.406181  0.279\n",
      "Test   0.224745  0.092267  0.303755  0.265003    NaN\n",
      "\n",
      "Radial Kernel SVM:\n",
      "            MAE       MSE      RMSE        R2  CV_R2\n",
      "Train  0.096072  0.015269  0.123567  0.885269  0.788\n",
      "Test   0.125699  0.027475  0.165755  0.781137    NaN\n",
      "\n"
     ]
    }
   ],
   "source": [
    "print(\"Linear Kernel SVM: \") \n",
    "model = SVR(kernel='linear')\n",
    "model.fit(X_train, y_train)\n",
    "svm_linear = Allmetrics(model,X_train, y_train,X_test, y_test)\n",
    "print(svm_linear)\n",
    "print()\n",
    "print(\"Polynomial Kernel SVM:\")\n",
    "model = SVR(kernel='poly', degree=2, gamma='auto') \n",
    "model.fit(X_train, y_train)\n",
    "svm_poly = Allmetrics(model,X_train, y_train,X_test, y_test)\n",
    "print(svm_poly)\n",
    "print()\n",
    "print(\"Radial Kernel SVM:\")\n",
    "model = SVR(kernel='rbf', gamma=0.1) \n",
    "model.fit(X_train, y_train)\n",
    "svm_rdf = Allmetrics(model,X_train, y_train,X_test, y_test) \n",
    "print(svm_rdf)\n",
    "print()"
   ]
  },
  {
   "cell_type": "markdown",
   "metadata": {},
   "source": [
    "## Support Vector Machine Hyperparameter tuning"
   ]
  },
  {
   "cell_type": "code",
   "execution_count": 66,
   "metadata": {},
   "outputs": [
    {
     "data": {
      "text/plain": [
       "{'C': [0.01, 0.1, 0.5, 1, 10, 100],\n",
       " 'gamma': [1, 0.75, 0.5, 0.25, 0.1, 0.01, 0.001],\n",
       " 'kernel': ['rbf', 'poly', 'linear']}"
      ]
     },
     "execution_count": 66,
     "metadata": {},
     "output_type": "execute_result"
    }
   ],
   "source": [
    "from sklearn.model_selection import GridSearchCV\n",
    "\n",
    "param_grid = {'C': [0.01, 0.1, 0.5, 1, 10, 100],\n",
    "              'gamma': [1, 0.75, 0.5, 0.25, 0.1, 0.01, 0.001],\n",
    "              'kernel': ['rbf', 'poly', 'linear']}\n",
    "param_grid"
   ]
  },
  {
   "cell_type": "code",
   "execution_count": 67,
   "metadata": {
    "scrolled": true
   },
   "outputs": [
    {
     "name": "stdout",
     "output_type": "stream",
     "text": [
      "GridSearchCV(cv=10, estimator=SVR(), n_jobs=-1,\n",
      "             param_grid={'C': [0.01, 0.1, 0.5, 1, 10, 100],\n",
      "                         'gamma': [1, 0.75, 0.5, 0.25, 0.1, 0.01, 0.001],\n",
      "                         'kernel': ['rbf', 'poly', 'linear']})\n"
     ]
    }
   ],
   "source": [
    "grid = GridSearchCV(SVR(), param_grid, refit=True, cv=10, n_jobs = -1)\n",
    "print(grid)"
   ]
  },
  {
   "cell_type": "code",
   "execution_count": null,
   "metadata": {},
   "outputs": [],
   "source": [
    "import time\n",
    "start = time.time()\n",
    "grid_model = grid.fit(X_train, y_train)\n",
    "end = time.time()\n",
    "print('Total execution time:', end - start, 'sec')"
   ]
  },
  {
   "cell_type": "code",
   "execution_count": null,
   "metadata": {},
   "outputs": [],
   "source": [
    "grid_model.best_params_"
   ]
  },
  {
   "cell_type": "code",
   "execution_count": null,
   "metadata": {},
   "outputs": [],
   "source": [
    "grid_model.best_score_"
   ]
  },
  {
   "cell_type": "code",
   "execution_count": null,
   "metadata": {},
   "outputs": [],
   "source": [
    "final_model = SVR(C =100, gamma= 0.01, kernel= 'rbf')"
   ]
  },
  {
   "cell_type": "code",
   "execution_count": null,
   "metadata": {},
   "outputs": [],
   "source": []
  }
 ],
 "metadata": {
  "_change_revision": 0,
  "_is_fork": false,
  "colab": {
   "name": "Data_Cleaning_&_Feature_Engineering.ipynb",
   "provenance": []
  },
  "hide_input": false,
  "kernelspec": {
   "display_name": "Python 3",
   "language": "python",
   "name": "python3"
  },
  "language_info": {
   "codemirror_mode": {
    "name": "ipython",
    "version": 3
   },
   "file_extension": ".py",
   "mimetype": "text/x-python",
   "name": "python",
   "nbconvert_exporter": "python",
   "pygments_lexer": "ipython3",
   "version": "3.7.9"
  },
  "latex_envs": {
   "LaTeX_envs_menu_present": true,
   "autoclose": false,
   "autocomplete": true,
   "bibliofile": "biblio.bib",
   "cite_by": "apalike",
   "current_citInitial": 1,
   "eqLabelWithNumbers": true,
   "eqNumInitial": 1,
   "hotkeys": {
    "equation": "Ctrl-E",
    "itemize": "Ctrl-I"
   },
   "labels_anchors": false,
   "latex_user_defs": false,
   "report_style_numbering": false,
   "user_envs_cfg": false
  },
  "toc": {
   "base_numbering": 1,
   "nav_menu": {},
   "number_sections": true,
   "sideBar": true,
   "skip_h1_title": false,
   "title_cell": "Table of Contents",
   "title_sidebar": "Contents",
   "toc_cell": true,
   "toc_position": {
    "height": "calc(100% - 180px)",
    "left": "10px",
    "top": "150px",
    "width": "276.1875px"
   },
   "toc_section_display": true,
   "toc_window_display": true
  },
  "varInspector": {
   "cols": {
    "lenName": 16,
    "lenType": 16,
    "lenVar": 40
   },
   "kernels_config": {
    "python": {
     "delete_cmd_postfix": "",
     "delete_cmd_prefix": "del ",
     "library": "var_list.py",
     "varRefreshCmd": "print(var_dic_list())"
    },
    "r": {
     "delete_cmd_postfix": ") ",
     "delete_cmd_prefix": "rm(",
     "library": "var_list.r",
     "varRefreshCmd": "cat(var_dic_list()) "
    }
   },
   "types_to_exclude": [
    "module",
    "function",
    "builtin_function_or_method",
    "instance",
    "_Feature"
   ],
   "window_display": false
  }
 },
 "nbformat": 4,
 "nbformat_minor": 1
}
